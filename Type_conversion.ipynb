{
 "cells": [
  {
   "cell_type": "code",
   "execution_count": 1,
   "id": "63bd7965-ba59-4812-bcb2-d37ce30578c2",
   "metadata": {},
   "outputs": [],
   "source": [
    "a=3"
   ]
  },
  {
   "cell_type": "code",
   "execution_count": 2,
   "id": "3f8e384e-2f19-4b40-9418-9b92871aa248",
   "metadata": {},
   "outputs": [
    {
     "data": {
      "text/plain": [
       "int"
      ]
     },
     "execution_count": 2,
     "metadata": {},
     "output_type": "execute_result"
    }
   ],
   "source": [
    "type(a)"
   ]
  },
  {
   "cell_type": "code",
   "execution_count": 6,
   "id": "56f5fb76-54bc-4484-b7e6-8e99b277a881",
   "metadata": {},
   "outputs": [],
   "source": [
    "b=float(a)"
   ]
  },
  {
   "cell_type": "code",
   "execution_count": 7,
   "id": "582d1f7d-a4f1-4291-8236-404f393e3658",
   "metadata": {},
   "outputs": [
    {
     "data": {
      "text/plain": [
       "3.0"
      ]
     },
     "execution_count": 7,
     "metadata": {},
     "output_type": "execute_result"
    }
   ],
   "source": [
    "b"
   ]
  },
  {
   "cell_type": "code",
   "execution_count": 9,
   "id": "da0457e5-c414-425e-bee4-5fd8657ef82f",
   "metadata": {},
   "outputs": [
    {
     "data": {
      "text/plain": [
       "float"
      ]
     },
     "execution_count": 9,
     "metadata": {},
     "output_type": "execute_result"
    }
   ],
   "source": [
    "type(b)"
   ]
  },
  {
   "cell_type": "code",
   "execution_count": 10,
   "id": "d3d91942-b1b6-4316-93bd-e509d26c7b22",
   "metadata": {},
   "outputs": [],
   "source": [
    "c=int(b)"
   ]
  },
  {
   "cell_type": "code",
   "execution_count": 12,
   "id": "bdf03c45-2f63-48bc-9276-bce9d7fc69d2",
   "metadata": {},
   "outputs": [
    {
     "data": {
      "text/plain": [
       "int"
      ]
     },
     "execution_count": 12,
     "metadata": {},
     "output_type": "execute_result"
    }
   ],
   "source": [
    "type(c)"
   ]
  },
  {
   "cell_type": "code",
   "execution_count": 14,
   "id": "cfebc584-531a-4103-b12b-833278df29ed",
   "metadata": {},
   "outputs": [],
   "source": [
    "d=str(c)"
   ]
  },
  {
   "cell_type": "code",
   "execution_count": 15,
   "id": "978eaf8d-2765-47b5-8abf-1cda718eb900",
   "metadata": {},
   "outputs": [
    {
     "data": {
      "text/plain": [
       "str"
      ]
     },
     "execution_count": 15,
     "metadata": {},
     "output_type": "execute_result"
    }
   ],
   "source": [
    "type(d)"
   ]
  },
  {
   "cell_type": "code",
   "execution_count": 16,
   "id": "d06c7b16-388a-4e5f-a8d6-4c0fa065c8a6",
   "metadata": {},
   "outputs": [],
   "source": [
    "l=[2,3.0,True,2+3j]"
   ]
  },
  {
   "cell_type": "code",
   "execution_count": 17,
   "id": "32744d47-66e2-47f2-b904-bbc9dbbac189",
   "metadata": {},
   "outputs": [
    {
     "data": {
      "text/plain": [
       "[2, 3.0, True, (2+3j)]"
      ]
     },
     "execution_count": 17,
     "metadata": {},
     "output_type": "execute_result"
    }
   ],
   "source": [
    "l"
   ]
  },
  {
   "cell_type": "code",
   "execution_count": 18,
   "id": "81f97e7f-5c27-496d-8a52-ac7385ed3927",
   "metadata": {},
   "outputs": [
    {
     "data": {
      "text/plain": [
       "list"
      ]
     },
     "execution_count": 18,
     "metadata": {},
     "output_type": "execute_result"
    }
   ],
   "source": [
    "type(l)"
   ]
  },
  {
   "cell_type": "code",
   "execution_count": 19,
   "id": "0909abba-1ff8-4648-9391-87e38e303e01",
   "metadata": {},
   "outputs": [],
   "source": [
    "e=tuple(l)"
   ]
  },
  {
   "cell_type": "code",
   "execution_count": 20,
   "id": "c5ee2235-ad32-43a2-b3a4-4efb59bdc6ba",
   "metadata": {},
   "outputs": [
    {
     "data": {
      "text/plain": [
       "tuple"
      ]
     },
     "execution_count": 20,
     "metadata": {},
     "output_type": "execute_result"
    }
   ],
   "source": [
    "type(e)"
   ]
  },
  {
   "cell_type": "code",
   "execution_count": 21,
   "id": "1f37050e-91f7-4d8b-9ca5-0bc89ed45ca1",
   "metadata": {},
   "outputs": [],
   "source": [
    "f=list(e)\n"
   ]
  },
  {
   "cell_type": "code",
   "execution_count": 22,
   "id": "807dd639-eb2a-4d10-83e9-4c3f4dfdd3f6",
   "metadata": {},
   "outputs": [
    {
     "data": {
      "text/plain": [
       "list"
      ]
     },
     "execution_count": 22,
     "metadata": {},
     "output_type": "execute_result"
    }
   ],
   "source": [
    "type(f)"
   ]
  },
  {
   "cell_type": "code",
   "execution_count": 25,
   "id": "956ced27-a575-4fae-bd12-394fef5f3abc",
   "metadata": {},
   "outputs": [],
   "source": [
    "p=3"
   ]
  },
  {
   "cell_type": "code",
   "execution_count": 26,
   "id": "2f58b5aa-042b-439f-8d8b-7c59f3121949",
   "metadata": {},
   "outputs": [],
   "source": [
    "q=bin(p)"
   ]
  },
  {
   "cell_type": "code",
   "execution_count": 27,
   "id": "48935884-c42c-4dc3-bd15-de6ec9d72d73",
   "metadata": {},
   "outputs": [
    {
     "data": {
      "text/plain": [
       "'0b11'"
      ]
     },
     "execution_count": 27,
     "metadata": {},
     "output_type": "execute_result"
    }
   ],
   "source": [
    "q\n"
   ]
  },
  {
   "cell_type": "code",
   "execution_count": 28,
   "id": "a110dc42-9943-4a62-a7d6-7281de248840",
   "metadata": {},
   "outputs": [
    {
     "data": {
      "text/plain": [
       "True"
      ]
     },
     "execution_count": 28,
     "metadata": {},
     "output_type": "execute_result"
    }
   ],
   "source": [
    "num=3\n",
    "boolean=bool(num)\n",
    "boolean"
   ]
  },
  {
   "cell_type": "code",
   "execution_count": null,
   "id": "45b55ac2-0037-4fd4-8569-cb27a9708f2a",
   "metadata": {},
   "outputs": [],
   "source": [
    "type(boolean)"
   ]
  }
 ],
 "metadata": {
  "kernelspec": {
   "display_name": "Python 3 (ipykernel)",
   "language": "python",
   "name": "python3"
  },
  "language_info": {
   "codemirror_mode": {
    "name": "ipython",
    "version": 3
   },
   "file_extension": ".py",
   "mimetype": "text/x-python",
   "name": "python",
   "nbconvert_exporter": "python",
   "pygments_lexer": "ipython3",
   "version": "3.10.8"
  }
 },
 "nbformat": 4,
 "nbformat_minor": 5
}
